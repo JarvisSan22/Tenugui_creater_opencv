{
  "nbformat": 4,
  "nbformat_minor": 2,
  "metadata": {
    "colab": {
      "name": "Create_design_notebook.ipynb",
      "provenance": [],
      "collapsed_sections": []
    },
    "kernelspec": {
      "name": "python3",
      "display_name": "Python 3"
    },
    "language_info": {
      "name": "python"
    }
  },
  "cells": [
    {
      "cell_type": "code",
      "execution_count": null,
      "source": [
        "!git clone https://github.com/JarvisSan22/Tenugui_creater_opencv.git"
      ],
      "outputs": [],
      "metadata": {
        "colab": {
          "base_uri": "https://localhost:8080/"
        },
        "id": "7csMsrSK3EY4",
        "outputId": "7fb056f4-54e6-45b3-e8e7-e9cfc7794898"
      }
    },
    {
      "cell_type": "code",
      "execution_count": null,
      "source": [
        "import cv2\r\n",
        "import numpy as np\r\n",
        "import os\r\n",
        "import matplotlib.pyplot as plt\r\n",
        "import Tenugui_creater_opencv.pattern_edit as PE\r\n",
        "%matplotlib inline\r\n",
        "#from google.colab import drive\r\n",
        "#drive.mount('/content/drive')"
      ],
      "outputs": [],
      "metadata": {
        "id": "0sqih2J1U-oX"
      }
    },
    {
      "cell_type": "markdown",
      "source": [
        "# Load image and analysis 画像をリードして、解析する"
      ],
      "metadata": {
        "id": "7V8z4-4o5KBq"
      }
    },
    {
      "cell_type": "code",
      "execution_count": null,
      "source": [
        "from google.colab import files\r\n",
        "uploaded = files.upload()\r\n",
        "print(uploaded)"
      ],
      "outputs": [],
      "metadata": {
        "colab": {
          "resources": {
            "http://localhost:8080/nbextensions/google.colab/files.js": {
              "data": "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",
              "ok": true,
              "headers": [
                [
                  "content-type",
                  "application/javascript"
                ]
              ],
              "status": 200,
              "status_text": ""
            }
          },
          "base_uri": "https://localhost:8080/",
          "height": 114
        },
        "id": "JMRC5UXSp9EE",
        "outputId": "6308d332-ead5-43bc-d124-bf87dcf0ab72"
      }
    },
    {
      "cell_type": "markdown",
      "source": [
        "# Quck Create 早く作成する"
      ],
      "metadata": {
        "id": "s4wlXnoLqndf"
      }
    },
    {
      "cell_type": "code",
      "execution_count": null,
      "source": [
        "filename=list(uploaded.keys())[0]\r\n",
        "img=cv2.imread(filename)\r\n",
        "#Settings \r\n",
        "THRESHOLD=[150,256] #抽出の閾値\r\n",
        "INVERT=True\r\n",
        "rx,ry=200,300 #サイズ\r\n",
        "CONTOURS=False\r\n",
        "C_MODE=cv2.RETR_TREE\r\n",
        "C_APROX=cv2.CHAIN_APPROX_NONE\r\n",
        "#Inversion\r\n",
        "if INVERT:\r\n",
        "  img=cv2.bitwise_not(img)\r\n",
        "\r\n",
        "#Grayscale \r\n",
        "img_gray=PE.grayscale_3channel(img)\r\n",
        "#Binary\r\n",
        "img_threshold=PE.Threshold(img_gray,min_limit=THRESHOLD[0], max_limit=THRESHOLD[1],plot=True)\r\n",
        "\r\n",
        "#Contours \r\n",
        "if CONTOURS:\r\n",
        "  shape=img.shape\r\n",
        "  zeros=np.zeros(shape,dtype=np.uint8)\r\n",
        "  contours, hierarchy = cv2.findContours(img_threshold,C_MODE,C_APROX)\r\n",
        "  for contour in contours:\r\n",
        "      cv2.polylines(zeros, contour ,True,(255,255,255),3)\r\n",
        "  img_threshold=zeros\r\n",
        "\r\n",
        "resize=(rx,ry)\r\n",
        "img_resize=cv2.resize(img_threshold.copy(),resize,interpolation=cv2.INTER_NEAREST)\r\n",
        "\r\n",
        "#Design creation\r\n",
        "hcm=100 #cm #66\r\n",
        "wcm=80 #cm #36\r\n",
        "padcm=0\r\n",
        "Pattern=PE.createPattern(img_resize,hcm,wcm,padcm,rotation=False)\r\n",
        "#Colering\r\n",
        "c2=[234, 194, 0]\r\n",
        "c1=[224, 16, 58]\r\n",
        "Colored_Patten=PE.colorpatten(Pattern,c1,c2)\r\n",
        "#Cropping\r\n",
        "nhcm=66\r\n",
        "nwcm=36\r\n",
        "cuth=PE.CmtoPx((hcm-nhcm)//2)\r\n",
        "cutw=PE.CmtoPx((wcm-nwcm)//2)\r\n",
        "h,w,c=Colored_Patten.shape\r\n",
        "Colored_Patten=cv2.cvtColor(Colored_Patten, cv2.COLOR_BGR2RGB)\r\n",
        "#Save\r\n",
        "savename=\"tenugui_\"+os.path.basename(filename)\r\n",
        "Colored_Pattern=Colored_Patten[cuth:h-cuth,cutw:w-cutw,:]\r\n",
        "cv2.imwrite(savename,Colored_Pattern)\r\n",
        "files.download(savename)\r\n",
        "plt.imshow(Colored_Pattern)\r\n",
        "\r\n"
      ],
      "outputs": [],
      "metadata": {
        "id": "jwyAnWo1FrzK"
      }
    },
    {
      "cell_type": "markdown",
      "source": [
        "# Step Create 順番により、作成する"
      ],
      "metadata": {
        "id": "WSkNkhtdFsRx"
      }
    },
    {
      "cell_type": "code",
      "execution_count": null,
      "source": [
        "filename=list(uploaded.keys())[0]\r\n",
        "img=cv2.imread(filename)\r\n",
        "plt.imshow(cv2.cvtColor(img, cv2.COLOR_BGR2RGB))"
      ],
      "outputs": [],
      "metadata": {
        "colab": {
          "base_uri": "https://localhost:8080/",
          "height": 284
        },
        "id": "sBdCf7s4VINt",
        "outputId": "166b8d77-eea3-4ed8-d1a1-fbf0470e9bcb"
      }
    },
    {
      "cell_type": "code",
      "execution_count": null,
      "source": [
        "CROP=None #or (y1,y2,x1,x2)[y1:y2,x1;,x2,:]\r\n",
        "if CROP:\r\n",
        "  img=img[CROP[0]:CROP[1],CROP[2]:CROP[3],:]\r\n",
        "ANALYSIS=True\r\n",
        "if ANALYSIS:\r\n",
        "  PE.RBGhist(img)\r\n",
        "  PE.grayhist(img)\r\n"
      ],
      "outputs": [],
      "metadata": {
        "colab": {
          "base_uri": "https://localhost:8080/",
          "height": 928
        },
        "id": "4B_035xX4BzB",
        "outputId": "b27caecd-070a-486f-b110-f8fff3347ca8"
      }
    },
    {
      "cell_type": "markdown",
      "source": [
        "#Threshold extract 閾値の抽出"
      ],
      "metadata": {
        "id": "vPFrVzpn5S6O"
      }
    },
    {
      "cell_type": "code",
      "execution_count": null,
      "source": [
        "#Settings \r\n",
        "THRESHOLD=[90,200]\r\n",
        "#Grayscale \r\n",
        "img_gray=PE.grayscale_3channel(img)\r\n",
        "#Binary\r\n",
        "img_threshold=PE.Threshold(img_gray,min_limit=THRESHOLD[0], max_limit=THRESHOLD[1],plot=True)\r\n",
        "\r\n",
        "b_max=np.max(img_threshold)\r\n",
        "print(b_max)\r\n",
        "if b_max!=255:\r\n",
        "  mask=img_threshold[:,:,:]==[b_max,b_max,b_max]\r\n",
        "  img_threshold[np.logical_or.reduce(mask,axis=2)]=[255,255,255]\r\n",
        "\r\n",
        "\r\n",
        "print(np.min(img_threshold),np.max(img_threshold))"
      ],
      "outputs": [],
      "metadata": {
        "colab": {
          "base_uri": "https://localhost:8080/",
          "height": 338
        },
        "id": "IfaulCna5SPm",
        "outputId": "7c0691f3-95b9-4c55-f5c1-8a9ab3555e9e"
      }
    },
    {
      "cell_type": "code",
      "execution_count": null,
      "source": [
        "# Countour test 輪郭のテスト"
      ],
      "outputs": [],
      "metadata": {}
    },
    {
      "cell_type": "code",
      "execution_count": null,
      "source": [
        "#mode \r\n",
        "img2=  np.array(img,dtype=np.uint8) \r\n",
        "h,w,c=img2.shape\r\n",
        "img_gray=cv2.cvtColor(img2, cv2.COLOR_BGR2GRAY)\r\n",
        "thresh, binary = cv2.threshold (img_gray, 100, 256, cv2.THRESH_BINARY)\r\n",
        "\r\n",
        "fig,axs=plt.subplots(3,2,figsize=(10,10))\r\n",
        "axs=axs.reshape(-1)\r\n",
        "modes=[\"ORIGINAL\",cv2.RETR_EXTERNAL,cv2.RETR_LIST,cv2.RETR_CCOMP,cv2.RETR_TREE]\r\n",
        "mode_names=[\"RETR_EXTERNAL\",\"RETR_LIST\",\"RETR_CCOMP\",\"RETR_TREE\"]\r\n",
        "\r\n",
        "for ax,mode,in zip(axs,modes):\r\n",
        "  if mode == \"ORIGINAL\":\r\n",
        "    ax.imshow(binary)\r\n",
        "    ax.set_title(\"ORIGINAL\")\r\n",
        "  else:\r\n",
        "    zeros=np.zeros([h,w,c],dtype=np.uint8)\r\n",
        " \r\n",
        "    contours, hierarchy = cv2.findContours(binary,mode,cv2.CHAIN_APPROX_SIMPLE)\r\n",
        "    for contour in contours:\r\n",
        "      cv2.polylines(zeros, contour ,True,(255,0,0),3)\r\n",
        "   \r\n",
        "    ax.imshow(zeros)\r\n",
        "    ax.set_title(mode_names[mode])"
      ],
      "outputs": [],
      "metadata": {}
    },
    {
      "cell_type": "code",
      "execution_count": null,
      "source": [
        "#Aproximation test \r\n",
        "\r\n",
        "img2=  np.array(img,dtype=np.uint8) \r\n",
        "h,w,c=img2.shape\r\n",
        "img_gray=cv2.cvtColor(img2, cv2.COLOR_BGR2GRAY)\r\n",
        "thresh, binary = cv2.threshold (img_gray, 100, 256, cv2.THRESH_BINARY)\r\n",
        "\r\n",
        "fig,axs=plt.subplots(3,2,figsize=(10,10))\r\n",
        "axs=axs.reshape(-1)\r\n",
        "aproxs=[\"ORIGINAL\",cv2.CHAIN_APPROX_NONE, cv2.CHAIN_APPROX_SIMPLE, cv2.CHAIN_APPROX_TC89_L1,cv2.CHAIN_APPROX_TC89_KCOS]\r\n",
        "aprox_names=[\"CHAIN_APPROX_NONE\",\"CHAIN_APPROX_SIMPLE\", \"CHAIN_APPROX_TC89_L1\",\"CHAIN_APPROX_TC89_KCOS\"]\r\n",
        "mode=cv2.RETR_TREE #,cv2.RETR_EXTERNAL,cv2.RETR_LIST,cv2.RETR_CCOMP,cv2.RETR_TREE\r\n",
        "for ax,aprox,in zip(axs,aproxs):\r\n",
        "  if aprox == \"ORIGINAL\":\r\n",
        "    ax.imshow(binary)\r\n",
        "    ax.set_title(\"ORIGINAL\")\r\n",
        "  else:\r\n",
        "    zeros=np.zeros([h,w,c],dtype=np.uint8)\r\n",
        " \r\n",
        "    contours, hierarchy = cv2.findContours(binary,mode,aprox)\r\n",
        "    for contour in contours:\r\n",
        "      cv2.polylines(zeros, contour ,True,(255,0,0),3)\r\n",
        "   \r\n",
        "    ax.imshow(zeros)\r\n",
        "    ax.set_title(aprox_names[aprox-1])\r\n"
      ],
      "outputs": [],
      "metadata": {}
    },
    {
      "cell_type": "markdown",
      "source": [],
      "metadata": {}
    },
    {
      "cell_type": "markdown",
      "source": [
        "#Check resize results サイズを変化する結果を確認する\n",
        "Which options is the best for this image \n",
        "\n",
        "その画像により、どちらの設定が適当ですか？"
      ],
      "metadata": {
        "id": "YgVgIxGj9i-3"
      }
    },
    {
      "cell_type": "code",
      "execution_count": null,
      "source": [
        "#Resize サイズを縮む\r\n",
        "rx,ry=100,100\r\n",
        "resize=(rx,ry)\r\n",
        "fig,axs=plt.subplots(3,2,figsize=(10,10))\r\n",
        "axs=axs.reshape(-1)\r\n",
        "interpolations=[\"ORIGINAL\",cv2.INTER_NEAREST,cv2.INTER_LINEAR,cv2.INTER_AREA,cv2.INTER_CUBIC,cv2.INTER_LANCZOS4]\r\n",
        "interpolation_names=[\"INTER_NEAREST\",\"INTER_LINEAR\",\"INTER_AREA\",\"INTER_CUBIC\",\"INTER_LANCZOS4\"]\r\n",
        "\r\n",
        "for ax,inter in zip(axs,interpolations):\r\n",
        "  if inter == \"ORIGINAL\":\r\n",
        "    ax.imshow(img_threshold)\r\n",
        "    ax.set_title(\"ORIGINAL\")\r\n",
        "  else:\r\n",
        "    img_pl_resize=cv2.resize(img_threshold.copy(),resize,interpolation=inter)\r\n",
        "    ax.imshow(img_pl_resize)\r\n",
        "    ax.set_title(interpolation_names[inter])\r\n",
        "#img_pl_resize\r\n",
        "#plt.figure()\r\n",
        "#plt.imshow(img_pl_resize)"
      ],
      "outputs": [],
      "metadata": {
        "colab": {
          "base_uri": "https://localhost:8080/",
          "height": 729
        },
        "id": "pAebu-X0jBBW",
        "outputId": "63417729-97dc-46a4-99e7-8406d8e42c17"
      }
    },
    {
      "cell_type": "code",
      "execution_count": null,
      "source": [
        "img_resize=cv2.resize(img_threshold.copy(),resize,interpolation=cv2.INTER_NEAREST)"
      ],
      "outputs": [],
      "metadata": {
        "id": "WpaiBN5a87l3"
      }
    },
    {
      "cell_type": "markdown",
      "source": [
        "#Create Tengui pattern 手ぬぐいのような模様をを作成する\n",
        "\n",
        "standard size if 66 by 36cm, but to not have odd edges the images is made larger then cropped at the end. \n",
        "\n",
        "標準の手ぬぐいのサイズは66x36cmですが、変なわけがないために、そのサイズより大きい画像を作成してから、トリミングをします"
      ],
      "metadata": {
        "id": "z_KRvfNj4onT"
      }
    },
    {
      "cell_type": "code",
      "execution_count": null,
      "source": [
        "\r\n",
        "hcm=70 #cm #66\r\n",
        "wcm=45 #cm #36\r\n",
        "padcm=10\r\n",
        "Pattern=PE.CreatePatten(img_resize,hcm,wcm,padcm,rotation=False)"
      ],
      "outputs": [],
      "metadata": {
        "colab": {
          "base_uri": "https://localhost:8080/",
          "height": 884
        },
        "id": "vH4uuCyCdJzu",
        "outputId": "df854bab-f388-48af-c3a0-659928fa1a05"
      }
    },
    {
      "cell_type": "code",
      "execution_count": null,
      "source": [
        "#白と黒は色に変更する\r\n",
        "#https://www.color-hex.com/color-palette/33555\r\n",
        "#c2=[20,42,90]\r\n",
        "#c1=[183,233,244]\r\n",
        "c2=[14, 77, 48]\r\n",
        "c1=[194, 142, 39]\r\n",
        "Colored_Patten=PE.colorpatten(Pattern,c1,c2)"
      ],
      "outputs": [],
      "metadata": {
        "colab": {
          "base_uri": "https://localhost:8080/",
          "height": 846
        },
        "id": "mfV-DYGocJyM",
        "outputId": "bf2bfd6c-e74f-40b6-9d44-787c6d262317"
      }
    },
    {
      "cell_type": "code",
      "execution_count": null,
      "source": [
        "nhcm=66\r\n",
        "nwcm=36\r\n",
        "cuth=PE.CmtoPx((hcm-nhcm)//2)\r\n",
        "cutw=PE.CmtoPx((wcm-nwcm)//2)\r\n",
        "h,w,c=Colored_Patten.shape\r\n",
        "Colored_Patten=cv2.cvtColor(Colored_Patten, cv2.COLOR_BGR2RGB)\r\n",
        "\r\n",
        "cv2.imwrite(\"tenugui_\"+os.path.basename(filename),Colored_Patten[cuth:h-cuth,cutw:w-cutw,:])\r\n",
        "\r\n"
      ],
      "outputs": [],
      "metadata": {
        "colab": {
          "base_uri": "https://localhost:8080/"
        },
        "id": "sIkvlQqT8d1Z",
        "outputId": "e9802277-92c8-47d3-f3cd-5465d13ce952"
      }
    },
    {
      "cell_type": "code",
      "execution_count": null,
      "source": [],
      "outputs": [],
      "metadata": {
        "id": "SzRYOgnvBme6"
      }
    }
  ]
}